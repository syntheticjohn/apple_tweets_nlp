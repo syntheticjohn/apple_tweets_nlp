{
 "cells": [
  {
   "cell_type": "markdown",
   "metadata": {},
   "source": [
    "# Apple Tweets Preprocessing"
   ]
  },
  {
   "cell_type": "code",
   "execution_count": 3,
   "metadata": {
    "ExecuteTime": {
     "end_time": "2020-07-02T18:55:35.194970Z",
     "start_time": "2020-07-02T18:55:19.799924Z"
    }
   },
   "outputs": [],
   "source": [
    "import numpy as np\n",
    "import pandas as pd\n",
    "import datetime as dt\n",
    "import random\n",
    "from collections import Counter\n",
    "from scipy import sparse\n",
    "import pickle\n",
    "import os\n",
    "import re\n",
    "import string\n",
    "from pymongo import MongoClient\n",
    "from pprint import pprint\n",
    "\n",
    "from nltk.tokenize import word_tokenize\n",
    "from nltk.corpus import stopwords\n",
    "from nltk.stem.lancaster import LancasterStemmer\n",
    "from nltk.stem import WordNetLemmatizer\n",
    "from nltk.tag import pos_tag\n",
    "from nltk.chunk import ne_chunk\n",
    "from nltk.tokenize import MWETokenizer\n",
    "import spacy\n",
    "import gensim\n",
    "import emoji\n",
    "from spellchecker import SpellChecker\n",
    "from textblob import TextBlob\n",
    "from langdetect import detect"
   ]
  },
  {
   "cell_type": "markdown",
   "metadata": {},
   "source": [
    "## Load tweet data"
   ]
  },
  {
   "cell_type": "code",
   "execution_count": 360,
   "metadata": {},
   "outputs": [],
   "source": [
    "# set up client instance\n",
    "client = MongoClient()"
   ]
  },
  {
   "cell_type": "code",
   "execution_count": 11,
   "metadata": {},
   "outputs": [],
   "source": [
    "# set up db instance (where the tweet data is pre-stored in mongodb)\n",
    "db = client.customersupport"
   ]
  },
  {
   "cell_type": "code",
   "execution_count": 17,
   "metadata": {},
   "outputs": [
    {
     "data": {
      "text/plain": [
       "['tweets']"
      ]
     },
     "execution_count": 17,
     "metadata": {},
     "output_type": "execute_result"
    }
   ],
   "source": [
    "# check collections in db\n",
    "db.list_collection_names()"
   ]
  },
  {
   "cell_type": "code",
   "execution_count": 13,
   "metadata": {},
   "outputs": [
    {
     "data": {
      "text/plain": [
       "[{'tweet_id': 1,\n",
       "  'author_id': 'sprintcare',\n",
       "  'inbound': 'False',\n",
       "  'created_at': 'Tue Oct 31 22:10:47 +0000 2017',\n",
       "  'text': '@115712 I understand. I would like to assist you. We would need to get you into a private secured link to further assist.',\n",
       "  'response_tweet_id': 2,\n",
       "  'in_response_to_tweet_id': 3}]"
      ]
     },
     "execution_count": 13,
     "metadata": {},
     "output_type": "execute_result"
    }
   ],
   "source": [
    "# check out one tweet\n",
    "cursor = db.tweets.find({}, {'_id':0}).limit(1)\n",
    "list(cursor)"
   ]
  },
  {
   "cell_type": "code",
   "execution_count": 108,
   "metadata": {},
   "outputs": [],
   "source": [
    "# load collection into dataframe \n",
    "cursor = db.tweets.find()\n",
    "df = pd.DataFrame(list(cursor))\n",
    "df.to_pickle('customer_tweets.pkl')"
   ]
  },
  {
   "cell_type": "code",
   "execution_count": 87,
   "metadata": {
    "ExecuteTime": {
     "end_time": "2020-05-27T22:38:35.843475Z",
     "start_time": "2020-05-27T22:38:24.795239Z"
    },
    "run_control": {
     "marked": false
    }
   },
   "outputs": [],
   "source": [
    "# read pickle\n",
    "df = pd.read_pickle('customer_tweets.pkl')"
   ]
  },
  {
   "cell_type": "code",
   "execution_count": 155,
   "metadata": {
    "scrolled": false
   },
   "outputs": [
    {
     "data": {
      "text/plain": [
       "(2811774, 8)"
      ]
     },
     "execution_count": 155,
     "metadata": {},
     "output_type": "execute_result"
    }
   ],
   "source": [
    "# shape of df\n",
    "df.shape"
   ]
  },
  {
   "cell_type": "code",
   "execution_count": 23,
   "metadata": {},
   "outputs": [
    {
     "name": "stdout",
     "output_type": "stream",
     "text": [
      "<class 'pandas.core.frame.DataFrame'>\n",
      "RangeIndex: 2811774 entries, 0 to 2811773\n",
      "Data columns (total 8 columns):\n",
      "_id                        object\n",
      "tweet_id                   int64\n",
      "author_id                  object\n",
      "inbound                    object\n",
      "created_at                 object\n",
      "text                       object\n",
      "response_tweet_id          object\n",
      "in_response_to_tweet_id    object\n",
      "dtypes: int64(1), object(7)\n",
      "memory usage: 171.6+ MB\n"
     ]
    }
   ],
   "source": [
    "# basic info about the df\n",
    "df.info()"
   ]
  },
  {
   "cell_type": "code",
   "execution_count": 231,
   "metadata": {},
   "outputs": [
    {
     "data": {
      "text/html": [
       "<div>\n",
       "<style scoped>\n",
       "    .dataframe tbody tr th:only-of-type {\n",
       "        vertical-align: middle;\n",
       "    }\n",
       "\n",
       "    .dataframe tbody tr th {\n",
       "        vertical-align: top;\n",
       "    }\n",
       "\n",
       "    .dataframe thead th {\n",
       "        text-align: right;\n",
       "    }\n",
       "</style>\n",
       "<table border=\"1\" class=\"dataframe\">\n",
       "  <thead>\n",
       "    <tr style=\"text-align: right;\">\n",
       "      <th></th>\n",
       "      <th>_id</th>\n",
       "      <th>tweet_id</th>\n",
       "      <th>author_id</th>\n",
       "      <th>inbound</th>\n",
       "      <th>created_at</th>\n",
       "      <th>text</th>\n",
       "      <th>response_tweet_id</th>\n",
       "      <th>in_response_to_tweet_id</th>\n",
       "    </tr>\n",
       "  </thead>\n",
       "  <tbody>\n",
       "    <tr>\n",
       "      <th>0</th>\n",
       "      <td>5ebc7ad2507a19aa9e7ccae9</td>\n",
       "      <td>1</td>\n",
       "      <td>sprintcare</td>\n",
       "      <td>False</td>\n",
       "      <td>Tue Oct 31 22:10:47 +0000 2017</td>\n",
       "      <td>@115712 I understand. I would like to assist y...</td>\n",
       "      <td>2</td>\n",
       "      <td>3</td>\n",
       "    </tr>\n",
       "    <tr>\n",
       "      <th>1</th>\n",
       "      <td>5ebc7ad2507a19aa9e7ccaea</td>\n",
       "      <td>5</td>\n",
       "      <td>115712</td>\n",
       "      <td>True</td>\n",
       "      <td>Tue Oct 31 21:49:35 +0000 2017</td>\n",
       "      <td>@sprintcare I did.</td>\n",
       "      <td>4</td>\n",
       "      <td>6</td>\n",
       "    </tr>\n",
       "    <tr>\n",
       "      <th>2</th>\n",
       "      <td>5ebc7ad2507a19aa9e7ccaeb</td>\n",
       "      <td>6</td>\n",
       "      <td>sprintcare</td>\n",
       "      <td>False</td>\n",
       "      <td>Tue Oct 31 21:46:24 +0000 2017</td>\n",
       "      <td>@115712 Can you please send us a private messa...</td>\n",
       "      <td>5,7</td>\n",
       "      <td>8</td>\n",
       "    </tr>\n",
       "  </tbody>\n",
       "</table>\n",
       "</div>"
      ],
      "text/plain": [
       "                        _id  tweet_id   author_id inbound  \\\n",
       "0  5ebc7ad2507a19aa9e7ccae9         1  sprintcare   False   \n",
       "1  5ebc7ad2507a19aa9e7ccaea         5      115712    True   \n",
       "2  5ebc7ad2507a19aa9e7ccaeb         6  sprintcare   False   \n",
       "\n",
       "                       created_at  \\\n",
       "0  Tue Oct 31 22:10:47 +0000 2017   \n",
       "1  Tue Oct 31 21:49:35 +0000 2017   \n",
       "2  Tue Oct 31 21:46:24 +0000 2017   \n",
       "\n",
       "                                                text response_tweet_id  \\\n",
       "0  @115712 I understand. I would like to assist y...                 2   \n",
       "1                                 @sprintcare I did.                 4   \n",
       "2  @115712 Can you please send us a private messa...               5,7   \n",
       "\n",
       "  in_response_to_tweet_id  \n",
       "0                       3  \n",
       "1                       6  \n",
       "2                       8  "
      ]
     },
     "execution_count": 231,
     "metadata": {},
     "output_type": "execute_result"
    }
   ],
   "source": [
    "# check out a few sample records\n",
    "df.head(3)"
   ]
  },
  {
   "cell_type": "code",
   "execution_count": 27,
   "metadata": {},
   "outputs": [
    {
     "data": {
      "text/plain": [
       "702777"
      ]
     },
     "execution_count": 27,
     "metadata": {},
     "output_type": "execute_result"
    }
   ],
   "source": [
    "# how many unique author ids are there\n",
    "len(df.author_id.unique())"
   ]
  },
  {
   "cell_type": "code",
   "execution_count": 28,
   "metadata": {
    "scrolled": true
   },
   "outputs": [
    {
     "data": {
      "text/plain": [
       "AmazonHelp      169840\n",
       "AppleSupport    106860\n",
       "Uber_Support     56270\n",
       "SpotifyCares     43265\n",
       "Delta            42253\n",
       "                 ...  \n",
       "403265               1\n",
       "403266               1\n",
       "640356               1\n",
       "640354               1\n",
       "746645               1\n",
       "Name: author_id, Length: 702777, dtype: int64"
      ]
     },
     "execution_count": 28,
     "metadata": {},
     "output_type": "execute_result"
    }
   ],
   "source": [
    "# how many tweets from each author id?\n",
    "df.author_id.value_counts()"
   ]
  },
  {
   "cell_type": "code",
   "execution_count": 88,
   "metadata": {
    "ExecuteTime": {
     "end_time": "2020-05-27T22:38:37.671610Z",
     "start_time": "2020-05-27T22:38:36.960504Z"
    }
   },
   "outputs": [],
   "source": [
    "# drop column _id\n",
    "df = df.drop(['_id'], axis=1)"
   ]
  },
  {
   "cell_type": "code",
   "execution_count": 89,
   "metadata": {
    "ExecuteTime": {
     "end_time": "2020-05-27T22:38:44.925408Z",
     "start_time": "2020-05-27T22:38:37.747762Z"
    }
   },
   "outputs": [],
   "source": [
    "# let's focus on tweets to and from apple support only\n",
    "df = df[(df.author_id == 'AppleSupport') | (df.text.str.contains('@applesupport', na=False, flags=re.IGNORECASE, regex=True))]"
   ]
  },
  {
   "cell_type": "code",
   "execution_count": 234,
   "metadata": {},
   "outputs": [
    {
     "data": {
      "text/html": [
       "<div>\n",
       "<style scoped>\n",
       "    .dataframe tbody tr th:only-of-type {\n",
       "        vertical-align: middle;\n",
       "    }\n",
       "\n",
       "    .dataframe tbody tr th {\n",
       "        vertical-align: top;\n",
       "    }\n",
       "\n",
       "    .dataframe thead th {\n",
       "        text-align: right;\n",
       "    }\n",
       "</style>\n",
       "<table border=\"1\" class=\"dataframe\">\n",
       "  <thead>\n",
       "    <tr style=\"text-align: right;\">\n",
       "      <th></th>\n",
       "      <th>tweet_id</th>\n",
       "      <th>author_id</th>\n",
       "      <th>inbound</th>\n",
       "      <th>created_at</th>\n",
       "      <th>text</th>\n",
       "      <th>response_tweet_id</th>\n",
       "      <th>in_response_to_tweet_id</th>\n",
       "    </tr>\n",
       "  </thead>\n",
       "  <tbody>\n",
       "    <tr>\n",
       "      <th>396</th>\n",
       "      <td>696</td>\n",
       "      <td>AppleSupport</td>\n",
       "      <td>False</td>\n",
       "      <td>Tue Oct 31 22:27:49 +0000 2017</td>\n",
       "      <td>@115854 We're here for you. Which version of t...</td>\n",
       "      <td>697</td>\n",
       "      <td>698</td>\n",
       "    </tr>\n",
       "    <tr>\n",
       "      <th>397</th>\n",
       "      <td>697</td>\n",
       "      <td>115854</td>\n",
       "      <td>True</td>\n",
       "      <td>Tue Oct 31 22:31:23 +0000 2017</td>\n",
       "      <td>@AppleSupport The newest update. I️ made sure ...</td>\n",
       "      <td>699</td>\n",
       "      <td>696</td>\n",
       "    </tr>\n",
       "    <tr>\n",
       "      <th>398</th>\n",
       "      <td>699</td>\n",
       "      <td>AppleSupport</td>\n",
       "      <td>False</td>\n",
       "      <td>Tue Oct 31 22:36:27 +0000 2017</td>\n",
       "      <td>@115854 Lets take a closer look into this issu...</td>\n",
       "      <td></td>\n",
       "      <td>697</td>\n",
       "    </tr>\n",
       "  </tbody>\n",
       "</table>\n",
       "</div>"
      ],
      "text/plain": [
       "     tweet_id     author_id inbound                      created_at  \\\n",
       "396       696  AppleSupport   False  Tue Oct 31 22:27:49 +0000 2017   \n",
       "397       697        115854    True  Tue Oct 31 22:31:23 +0000 2017   \n",
       "398       699  AppleSupport   False  Tue Oct 31 22:36:27 +0000 2017   \n",
       "\n",
       "                                                  text response_tweet_id  \\\n",
       "396  @115854 We're here for you. Which version of t...               697   \n",
       "397  @AppleSupport The newest update. I️ made sure ...               699   \n",
       "398  @115854 Lets take a closer look into this issu...                     \n",
       "\n",
       "    in_response_to_tweet_id  \n",
       "396                     698  \n",
       "397                     696  \n",
       "398                     697  "
      ]
     },
     "execution_count": 234,
     "metadata": {},
     "output_type": "execute_result"
    }
   ],
   "source": [
    "df.head(3)"
   ]
  },
  {
   "cell_type": "code",
   "execution_count": 166,
   "metadata": {},
   "outputs": [
    {
     "data": {
      "text/plain": [
       "58583"
      ]
     },
     "execution_count": 166,
     "metadata": {},
     "output_type": "execute_result"
    }
   ],
   "source": [
    "# how many unique users who tweeted to apple support?\n",
    "len(df.author_id.unique())"
   ]
  },
  {
   "cell_type": "code",
   "execution_count": 113,
   "metadata": {
    "run_control": {
     "marked": false
    },
    "scrolled": true
   },
   "outputs": [
    {
     "data": {
      "text/html": [
       "<div>\n",
       "<style scoped>\n",
       "    .dataframe tbody tr th:only-of-type {\n",
       "        vertical-align: middle;\n",
       "    }\n",
       "\n",
       "    .dataframe tbody tr th {\n",
       "        vertical-align: top;\n",
       "    }\n",
       "\n",
       "    .dataframe thead th {\n",
       "        text-align: right;\n",
       "    }\n",
       "</style>\n",
       "<table border=\"1\" class=\"dataframe\">\n",
       "  <thead>\n",
       "    <tr style=\"text-align: right;\">\n",
       "      <th></th>\n",
       "      <th>tweet_id</th>\n",
       "      <th>author_id</th>\n",
       "      <th>inbound</th>\n",
       "      <th>created_at</th>\n",
       "      <th>text</th>\n",
       "      <th>response_tweet_id</th>\n",
       "      <th>in_response_to_tweet_id</th>\n",
       "    </tr>\n",
       "  </thead>\n",
       "  <tbody>\n",
       "    <tr>\n",
       "      <th>400</th>\n",
       "      <td>700</td>\n",
       "      <td>115854</td>\n",
       "      <td>True</td>\n",
       "      <td>Tue Oct 31 22:16:56 +0000 2017</td>\n",
       "      <td>@AppleSupport why are my I️’s changing not sho...</td>\n",
       "      <td>698</td>\n",
       "      <td></td>\n",
       "    </tr>\n",
       "    <tr>\n",
       "      <th>399</th>\n",
       "      <td>698</td>\n",
       "      <td>115854</td>\n",
       "      <td>True</td>\n",
       "      <td>Tue Oct 31 22:17:40 +0000 2017</td>\n",
       "      <td>@AppleSupport  https://t.co/NV0yucs0lB</td>\n",
       "      <td>696</td>\n",
       "      <td>700</td>\n",
       "    </tr>\n",
       "    <tr>\n",
       "      <th>396</th>\n",
       "      <td>696</td>\n",
       "      <td>AppleSupport</td>\n",
       "      <td>False</td>\n",
       "      <td>Tue Oct 31 22:27:49 +0000 2017</td>\n",
       "      <td>@115854 We're here for you. Which version of t...</td>\n",
       "      <td>697</td>\n",
       "      <td>698</td>\n",
       "    </tr>\n",
       "    <tr>\n",
       "      <th>397</th>\n",
       "      <td>697</td>\n",
       "      <td>115854</td>\n",
       "      <td>True</td>\n",
       "      <td>Tue Oct 31 22:31:23 +0000 2017</td>\n",
       "      <td>@AppleSupport The newest update. I️ made sure ...</td>\n",
       "      <td>699</td>\n",
       "      <td>696</td>\n",
       "    </tr>\n",
       "    <tr>\n",
       "      <th>398</th>\n",
       "      <td>699</td>\n",
       "      <td>AppleSupport</td>\n",
       "      <td>False</td>\n",
       "      <td>Tue Oct 31 22:36:27 +0000 2017</td>\n",
       "      <td>@115854 Lets take a closer look into this issu...</td>\n",
       "      <td></td>\n",
       "      <td>697</td>\n",
       "    </tr>\n",
       "  </tbody>\n",
       "</table>\n",
       "</div>"
      ],
      "text/plain": [
       "     tweet_id     author_id inbound                      created_at  \\\n",
       "400       700        115854    True  Tue Oct 31 22:16:56 +0000 2017   \n",
       "399       698        115854    True  Tue Oct 31 22:17:40 +0000 2017   \n",
       "396       696  AppleSupport   False  Tue Oct 31 22:27:49 +0000 2017   \n",
       "397       697        115854    True  Tue Oct 31 22:31:23 +0000 2017   \n",
       "398       699  AppleSupport   False  Tue Oct 31 22:36:27 +0000 2017   \n",
       "\n",
       "                                                  text response_tweet_id  \\\n",
       "400  @AppleSupport why are my I️’s changing not sho...               698   \n",
       "399             @AppleSupport  https://t.co/NV0yucs0lB               696   \n",
       "396  @115854 We're here for you. Which version of t...               697   \n",
       "397  @AppleSupport The newest update. I️ made sure ...               699   \n",
       "398  @115854 Lets take a closer look into this issu...                     \n",
       "\n",
       "    in_response_to_tweet_id  \n",
       "400                          \n",
       "399                     700  \n",
       "396                     698  \n",
       "397                     696  \n",
       "398                     697  "
      ]
     },
     "execution_count": 113,
     "metadata": {},
     "output_type": "execute_result"
    }
   ],
   "source": [
    "# sample tweet and its replies between a user and apple support\n",
    "df[(df.author_id == 115854) | (df.tweet_id.isin([696, 699]))].sort_values(by='created_at')"
   ]
  },
  {
   "cell_type": "code",
   "execution_count": 90,
   "metadata": {
    "ExecuteTime": {
     "end_time": "2020-05-27T22:38:45.966898Z",
     "start_time": "2020-05-27T22:38:45.839914Z"
    },
    "scrolled": true
   },
   "outputs": [],
   "source": [
    "# remove outbound messages that are not from apple support \n",
    "df = df[~((df.inbound == 'False') & (df.author_id != 'AppleSupport'))]"
   ]
  },
  {
   "cell_type": "markdown",
   "metadata": {},
   "source": [
    "## Cleaning"
   ]
  },
  {
   "cell_type": "markdown",
   "metadata": {},
   "source": [
    "### Clean up datetime column and add date only column"
   ]
  },
  {
   "cell_type": "code",
   "execution_count": 513,
   "metadata": {},
   "outputs": [
    {
     "data": {
      "text/plain": [
       "'Tue Oct 31 22:16:56 +0000 2017'"
      ]
     },
     "execution_count": 513,
     "metadata": {},
     "output_type": "execute_result"
    }
   ],
   "source": [
    "# check the current format of created at date\n",
    "df.created_at[400]"
   ]
  },
  {
   "cell_type": "code",
   "execution_count": 91,
   "metadata": {
    "ExecuteTime": {
     "end_time": "2020-05-27T22:38:49.262628Z",
     "start_time": "2020-05-27T22:38:47.802846Z"
    }
   },
   "outputs": [],
   "source": [
    "# convert created at column to datetime type\n",
    "df['created_at'] = pd.to_datetime(df['created_at'], format='%a %b %d %H:%M:%S +0000 %Y')\n",
    "\n",
    "# add date only column\n",
    "df['date_only'] = df['created_at'].dt.normalize()"
   ]
  },
  {
   "cell_type": "markdown",
   "metadata": {},
   "source": [
    "### Clean up text column"
   ]
  },
  {
   "cell_type": "code",
   "execution_count": 92,
   "metadata": {
    "ExecuteTime": {
     "end_time": "2020-05-27T22:40:11.481827Z",
     "start_time": "2020-05-27T22:40:00.630605Z"
    },
    "run_control": {
     "marked": false
    }
   },
   "outputs": [],
   "source": [
    "# fix word lengthening, such as the word 'amazingggggg'\n",
    "def reduce_lengthening(text):\n",
    "    pattern = re.compile(r\"(.)\\1{2,}\")\n",
    "    return pattern.sub(r\"\\1\\1\", text)\n",
    "\n",
    "df['text_clean'] = df.text.apply(lambda x: reduce_lengthening(x))\n",
    "\n",
    "# lower case text\n",
    "df.text_clean = df.text_clean.str.lower()\n",
    "\n",
    "# remove punctuation\n",
    "punc = (lambda x: re.sub('[%s]' % re.escape(string.punctuation), ' ', str(x))) \n",
    "df.text_clean = df.text_clean.map(punc)\n",
    "\n",
    "# remove curly open and closing quotes (for both single and double quotes)\n",
    "# single curly open quote\n",
    "df.text_clean = df.text_clean.map(lambda x: re.sub(\"‘\", ' ', str(x)))\n",
    "# single curly closing quote\n",
    "df.text_clean = df.text_clean.map(lambda x: re.sub(\"’\", ' ', str(x)))\n",
    "# double curly open quote\n",
    "df.text_clean = df.text_clean.map(lambda x: re.sub(\"“\", ' ', str(x)))\n",
    "# double curly closing quote\n",
    "df.text_clean = df.text_clean.map(lambda x: re.sub(\"”\", ' ', str(x)))\n",
    "\n",
    "# remove numbers\n",
    "num = (lambda x: re.sub('\\w*\\d\\w*', ' ', str(x)))\n",
    "df.text_clean = df.text_clean.map(num)"
   ]
  },
  {
   "cell_type": "code",
   "execution_count": 94,
   "metadata": {
    "ExecuteTime": {
     "end_time": "2020-05-27T22:40:26.950583Z",
     "start_time": "2020-05-27T22:40:25.284505Z"
    },
    "run_control": {
     "marked": false
    }
   },
   "outputs": [],
   "source": [
    "# convert slang / abbreviated phrases to words, such as brb to be right back    \n",
    "chat_words_map_dict = {}\n",
    "chat_words_list = []\n",
    "with open('chat_words_str.txt', 'r') as file:\n",
    "    chat_words_str = file.read()\n",
    "for line in chat_words_str.split(\"\\n\"):\n",
    "    if line != \"\":\n",
    "        cw = line.split(\"=\")[0]\n",
    "        cw_expanded = line.split(\"=\")[1]\n",
    "        chat_words_list.append(cw)\n",
    "        chat_words_map_dict[cw] = cw_expanded\n",
    "chat_words_list = set(chat_words_list)\n",
    "\n",
    "def chat_words_conversion(text):\n",
    "    new_text = []\n",
    "    for w in text.split():\n",
    "        if w.upper() in chat_words_list:\n",
    "            new_text.append(chat_words_map_dict[w.upper()])\n",
    "        else:\n",
    "            new_text.append(w)\n",
    "    return \" \".join(new_text)\n",
    "\n",
    "df.text_clean = df.text_clean.apply(lambda x: chat_words_conversion(x))"
   ]
  },
  {
   "cell_type": "code",
   "execution_count": 95,
   "metadata": {
    "ExecuteTime": {
     "end_time": "2020-05-27T22:40:38.176474Z",
     "start_time": "2020-05-27T22:40:28.317982Z"
    },
    "run_control": {
     "marked": false
    }
   },
   "outputs": [],
   "source": [
    "# remove stop words\n",
    "stop = stopwords.words('english')\n",
    "df.text_clean = df.text_clean.apply(lambda x: ' '.join([word for word in x.split() if word not in (stop)]))"
   ]
  },
  {
   "cell_type": "code",
   "execution_count": 123,
   "metadata": {},
   "outputs": [
    {
     "data": {
      "text/html": [
       "<div>\n",
       "<style scoped>\n",
       "    .dataframe tbody tr th:only-of-type {\n",
       "        vertical-align: middle;\n",
       "    }\n",
       "\n",
       "    .dataframe tbody tr th {\n",
       "        vertical-align: top;\n",
       "    }\n",
       "\n",
       "    .dataframe thead th {\n",
       "        text-align: right;\n",
       "    }\n",
       "</style>\n",
       "<table border=\"1\" class=\"dataframe\">\n",
       "  <thead>\n",
       "    <tr style=\"text-align: right;\">\n",
       "      <th></th>\n",
       "      <th>tweet_id</th>\n",
       "      <th>author_id</th>\n",
       "      <th>inbound</th>\n",
       "      <th>created_at</th>\n",
       "      <th>text</th>\n",
       "      <th>response_tweet_id</th>\n",
       "      <th>in_response_to_tweet_id</th>\n",
       "      <th>date_only</th>\n",
       "    </tr>\n",
       "  </thead>\n",
       "  <tbody>\n",
       "    <tr>\n",
       "      <th>396</th>\n",
       "      <td>696</td>\n",
       "      <td>AppleSupport</td>\n",
       "      <td>False</td>\n",
       "      <td>2017-10-31 22:27:49</td>\n",
       "      <td>version ios running check settings gt general gt</td>\n",
       "      <td>697</td>\n",
       "      <td>698</td>\n",
       "      <td>2017-10-31</td>\n",
       "    </tr>\n",
       "    <tr>\n",
       "      <th>397</th>\n",
       "      <td>697</td>\n",
       "      <td>115854</td>\n",
       "      <td>True</td>\n",
       "      <td>2017-10-31 22:31:23</td>\n",
       "      <td>applesupport newest update i️ made sure downlo...</td>\n",
       "      <td>699</td>\n",
       "      <td>696</td>\n",
       "      <td>2017-10-31</td>\n",
       "    </tr>\n",
       "    <tr>\n",
       "      <th>398</th>\n",
       "      <td>699</td>\n",
       "      <td>AppleSupport</td>\n",
       "      <td>False</td>\n",
       "      <td>2017-10-31 22:36:27</td>\n",
       "      <td>lets take closer look issue select following l...</td>\n",
       "      <td></td>\n",
       "      <td>697</td>\n",
       "      <td>2017-10-31</td>\n",
       "    </tr>\n",
       "    <tr>\n",
       "      <th>399</th>\n",
       "      <td>698</td>\n",
       "      <td>115854</td>\n",
       "      <td>True</td>\n",
       "      <td>2017-10-31 22:17:40</td>\n",
       "      <td>applesupport https co</td>\n",
       "      <td>696</td>\n",
       "      <td>700</td>\n",
       "      <td>2017-10-31</td>\n",
       "    </tr>\n",
       "    <tr>\n",
       "      <th>400</th>\n",
       "      <td>700</td>\n",
       "      <td>115854</td>\n",
       "      <td>True</td>\n",
       "      <td>2017-10-31 22:16:56</td>\n",
       "      <td>applesupport i️ changing showing correctly soc...</td>\n",
       "      <td>698</td>\n",
       "      <td></td>\n",
       "      <td>2017-10-31</td>\n",
       "    </tr>\n",
       "  </tbody>\n",
       "</table>\n",
       "</div>"
      ],
      "text/plain": [
       "     tweet_id     author_id inbound          created_at  \\\n",
       "396       696  AppleSupport   False 2017-10-31 22:27:49   \n",
       "397       697        115854    True 2017-10-31 22:31:23   \n",
       "398       699  AppleSupport   False 2017-10-31 22:36:27   \n",
       "399       698        115854    True 2017-10-31 22:17:40   \n",
       "400       700        115854    True 2017-10-31 22:16:56   \n",
       "\n",
       "                                                  text response_tweet_id  \\\n",
       "396   version ios running check settings gt general gt               697   \n",
       "397  applesupport newest update i️ made sure downlo...               699   \n",
       "398  lets take closer look issue select following l...                     \n",
       "399                              applesupport https co               696   \n",
       "400  applesupport i️ changing showing correctly soc...               698   \n",
       "\n",
       "    in_response_to_tweet_id  date_only  \n",
       "396                     698 2017-10-31  \n",
       "397                     696 2017-10-31  \n",
       "398                     697 2017-10-31  \n",
       "399                     700 2017-10-31  \n",
       "400                         2017-10-31  "
      ]
     },
     "execution_count": 123,
     "metadata": {},
     "output_type": "execute_result"
    }
   ],
   "source": [
    "df.head(5)"
   ]
  },
  {
   "cell_type": "code",
   "execution_count": 99,
   "metadata": {
    "ExecuteTime": {
     "end_time": "2020-05-27T22:41:55.105233Z",
     "start_time": "2020-05-27T22:41:53.921482Z"
    },
    "run_control": {
     "marked": false
    }
   },
   "outputs": [
    {
     "data": {
      "text/plain": [
       "[('co', 101956),\n",
       " ('https', 101944),\n",
       " ('applesupport', 98885),\n",
       " ('us', 71483),\n",
       " ('dm', 56712),\n",
       " ('help', 46891),\n",
       " ('let', 34422),\n",
       " ('ios', 34388),\n",
       " ('iphone', 32952),\n",
       " ('update', 24023)]"
      ]
     },
     "execution_count": 99,
     "metadata": {},
     "output_type": "execute_result"
    }
   ],
   "source": [
    "# most frequently occurring words \n",
    "word_counter = Counter()\n",
    "for text in df.text_clean.values:\n",
    "    for word in text.split():\n",
    "        word_counter[word] += 1\n",
    "        \n",
    "word_counter.most_common(10)"
   ]
  },
  {
   "cell_type": "code",
   "execution_count": 100,
   "metadata": {
    "ExecuteTime": {
     "end_time": "2020-05-27T22:41:58.123441Z",
     "start_time": "2020-05-27T22:41:56.978909Z"
    },
    "run_control": {
     "marked": false
    }
   },
   "outputs": [
    {
     "data": {
      "text/plain": [
       "[('stopmakingnewphonesuntillyoulearntomaketheoldonerunrite', 1),\n",
       " ('tyouguysgetitright', 1),\n",
       " ('whycan', 1),\n",
       " ('🤬😡🤬😡🤬', 1),\n",
       " ('cqngyqnslz', 1),\n",
       " ('🙎🏾\\u200d♂️', 1),\n",
       " ('unsaving', 1),\n",
       " ('quickquestion', 1),\n",
       " ('dzxhazufio', 1),\n",
       " ('censoring', 1)]"
      ]
     },
     "execution_count": 100,
     "metadata": {},
     "output_type": "execute_result"
    }
   ],
   "source": [
    "# least frequently occurring words \n",
    "word_counter = Counter()\n",
    "for text in df.text_clean.values:\n",
    "    for word in text.split():\n",
    "        word_counter[word] += 1\n",
    "        \n",
    "word_counter.most_common()[:-10-1:-1]"
   ]
  },
  {
   "cell_type": "code",
   "execution_count": 101,
   "metadata": {
    "ExecuteTime": {
     "end_time": "2020-05-27T22:42:17.464570Z",
     "start_time": "2020-05-27T22:42:02.184663Z"
    }
   },
   "outputs": [],
   "source": [
    "# lemmatize\n",
    "lemmatizer = WordNetLemmatizer()\n",
    "def lemmatize_words(text):\n",
    "    return \" \".join([lemmatizer.lemmatize(word) for word in text.split()])\n",
    "df.text_clean = df.text_clean.apply(lambda text: lemmatize_words(text))\n",
    "\n",
    "# remove emoji \n",
    "def give_emoji_free_text(text):\n",
    "    allchars = [str for str in text] \n",
    "    emoji_list = [c for c in allchars if c in emoji.UNICODE_EMOJI]\n",
    "    clean_text = ' '.join([str for str in text.split() if not any(i in str for i in emoji_list)]) \n",
    "    return clean_text\n",
    "df.text_clean = df.text_clean.apply(lambda x: give_emoji_free_text(x))\n",
    "\n",
    "# remove urls\n",
    "def remove_urls(text):\n",
    "    url_pattern = re.compile(r'https?://\\S+|www\\.\\S+')\n",
    "    return url_pattern.sub(r'', text)\n",
    "df.text_clean = df.text_clean.apply(lambda x: remove_urls(x))"
   ]
  },
  {
   "cell_type": "code",
   "execution_count": 102,
   "metadata": {
    "ExecuteTime": {
     "end_time": "2020-05-27T22:42:20.703234Z",
     "start_time": "2020-05-27T22:42:20.674493Z"
    },
    "scrolled": true
   },
   "outputs": [
    {
     "data": {
      "text/plain": [
       "2733943    applesupport second iphone x order said shippe...\n",
       "1840266    happy look issue dm u detail seeing box amp qu...\n",
       "1217157    thanks letting u know like look let u know app...\n",
       "66377                   thanks let look send u dm go http co\n",
       "2444894    applesupport find video app erased mistake ava...\n",
       "2201833    applesupport happened tried install update itu...\n",
       "244953                   help contact device currently using\n",
       "1034961    offer support via twitter english contact u he...\n",
       "1710261    control center disconnect bluetooth temporaril...\n",
       "1872896                   applesupport minuet fkdkxkkxkzkznz\n",
       "Name: text_clean, dtype: object"
      ]
     },
     "execution_count": 102,
     "metadata": {},
     "output_type": "execute_result"
    }
   ],
   "source": [
    "df.text_clean.sample(10)"
   ]
  },
  {
   "cell_type": "code",
   "execution_count": 103,
   "metadata": {
    "ExecuteTime": {
     "end_time": "2020-05-27T22:42:49.893262Z",
     "start_time": "2020-05-27T22:42:49.881906Z"
    }
   },
   "outputs": [
    {
     "data": {
      "text/plain": [
       "204756"
      ]
     },
     "execution_count": 103,
     "metadata": {},
     "output_type": "execute_result"
    }
   ],
   "source": [
    "len(df.text_clean)"
   ]
  },
  {
   "cell_type": "code",
   "execution_count": null,
   "metadata": {
    "run_control": {
     "marked": false
    },
    "scrolled": true
   },
   "outputs": [],
   "source": [
    "# correct spelling using text blob\n",
    "# for tweet in sample_text:\n",
    "#     # TextBlob is providing correct method\n",
    "#     sample_text = TextBlob(tweet).correct()"
   ]
  },
  {
   "cell_type": "code",
   "execution_count": 286,
   "metadata": {
    "run_control": {
     "marked": false
    },
    "scrolled": true
   },
   "outputs": [],
   "source": [
    "# correct spelling using spell checker\n",
    "# spell = SpellChecker()\n",
    "# def correct_spellings(text):\n",
    "#     corrected_text = []\n",
    "#     misspelled_words = spell.unknown(text.split())\n",
    "#     for word in text.split():\n",
    "#         if word in misspelled_words:\n",
    "#             corrected_text.append(spell.correction(word))\n",
    "#         else:\n",
    "#             corrected_text.append(word)\n",
    "#     return \" \".join(corrected_text)\n",
    "        \n",
    "# sample_text = sample_text.apply(lambda x: correct_spellings(x))"
   ]
  },
  {
   "cell_type": "code",
   "execution_count": 527,
   "metadata": {
    "run_control": {
     "marked": false
    }
   },
   "outputs": [],
   "source": [
    "# any non-english characters?\n",
    "\n",
    "# -*- coding: utf-8 -*-\n",
    "# def isEnglish(s):\n",
    "#     try:\n",
    "#         s.encode(encoding='utf-8').decode('ascii')\n",
    "#     except UnicodeDecodeError:\n",
    "#         return False\n",
    "#     else:\n",
    "#         return True\n",
    "\n",
    "# assert not isEnglish('slabiky, ale liší se podle významu')\n",
    "# assert isEnglish('English')\n",
    "# assert not isEnglish('ގެ ފުރަތަމަ ދެ އަކުރު ކަ')\n",
    "# assert not isEnglish('how about this one : 通 asfަ')\n",
    "# assert isEnglish('?fd4))45s&')"
   ]
  },
  {
   "cell_type": "code",
   "execution_count": 528,
   "metadata": {
    "run_control": {
     "marked": false
    },
    "scrolled": true
   },
   "outputs": [
    {
     "data": {
      "text/html": [
       "<div>\n",
       "<style scoped>\n",
       "    .dataframe tbody tr th:only-of-type {\n",
       "        vertical-align: middle;\n",
       "    }\n",
       "\n",
       "    .dataframe tbody tr th {\n",
       "        vertical-align: top;\n",
       "    }\n",
       "\n",
       "    .dataframe thead th {\n",
       "        text-align: right;\n",
       "    }\n",
       "</style>\n",
       "<table border=\"1\" class=\"dataframe\">\n",
       "  <thead>\n",
       "    <tr style=\"text-align: right;\">\n",
       "      <th></th>\n",
       "      <th>tweet_id</th>\n",
       "      <th>author_id</th>\n",
       "      <th>inbound</th>\n",
       "      <th>created_at</th>\n",
       "      <th>text</th>\n",
       "      <th>response_tweet_id</th>\n",
       "      <th>in_response_to_tweet_id</th>\n",
       "      <th>date_only</th>\n",
       "      <th>text_clean</th>\n",
       "    </tr>\n",
       "  </thead>\n",
       "  <tbody>\n",
       "    <tr>\n",
       "      <th>397</th>\n",
       "      <td>697</td>\n",
       "      <td>115854</td>\n",
       "      <td>True</td>\n",
       "      <td>2017-10-31 22:31:23</td>\n",
       "      <td>@AppleSupport The newest update. I️ made sure ...</td>\n",
       "      <td>699</td>\n",
       "      <td>696</td>\n",
       "      <td>2017-10-31</td>\n",
       "      <td>applesupport newest update i️ made sure downlo...</td>\n",
       "    </tr>\n",
       "    <tr>\n",
       "      <th>400</th>\n",
       "      <td>700</td>\n",
       "      <td>115854</td>\n",
       "      <td>True</td>\n",
       "      <td>2017-10-31 22:16:56</td>\n",
       "      <td>@AppleSupport why are my I️’s changing not sho...</td>\n",
       "      <td>698</td>\n",
       "      <td></td>\n",
       "      <td>2017-10-31</td>\n",
       "      <td>applesupport i️ changing showing correctly soc...</td>\n",
       "    </tr>\n",
       "    <tr>\n",
       "      <th>406</th>\n",
       "      <td>707</td>\n",
       "      <td>115855</td>\n",
       "      <td>True</td>\n",
       "      <td>2017-10-31 21:48:51</td>\n",
       "      <td>@AppleSupport I️ have an iPhone 7 Plus and yes...</td>\n",
       "      <td>705</td>\n",
       "      <td>708</td>\n",
       "      <td>2017-10-31</td>\n",
       "      <td>applesupport i️ iphone plus yes i️</td>\n",
       "    </tr>\n",
       "    <tr>\n",
       "      <th>408</th>\n",
       "      <td>709</td>\n",
       "      <td>115855</td>\n",
       "      <td>True</td>\n",
       "      <td>2017-10-31 21:34:45</td>\n",
       "      <td>@AppleSupport I️ need answers because it’s ann...</td>\n",
       "      <td>708</td>\n",
       "      <td>710</td>\n",
       "      <td>2017-10-31</td>\n",
       "      <td>applesupport i️ need answer annoying</td>\n",
       "    </tr>\n",
       "    <tr>\n",
       "      <th>413</th>\n",
       "      <td>714</td>\n",
       "      <td>115856</td>\n",
       "      <td>True</td>\n",
       "      <td>2017-10-31 22:19:32</td>\n",
       "      <td>Hey @AppleSupport and anyone else who upgraded...</td>\n",
       "      <td>712,715</td>\n",
       "      <td></td>\n",
       "      <td>2017-10-31</td>\n",
       "      <td>hey applesupport anyone else upgraded issue ca...</td>\n",
       "    </tr>\n",
       "    <tr>\n",
       "      <th>...</th>\n",
       "      <td>...</td>\n",
       "      <td>...</td>\n",
       "      <td>...</td>\n",
       "      <td>...</td>\n",
       "      <td>...</td>\n",
       "      <td>...</td>\n",
       "      <td>...</td>\n",
       "      <td>...</td>\n",
       "      <td>...</td>\n",
       "    </tr>\n",
       "    <tr>\n",
       "      <th>2809832</th>\n",
       "      <td>2986064</td>\n",
       "      <td>691757</td>\n",
       "      <td>True</td>\n",
       "      <td>2017-10-31 21:53:55</td>\n",
       "      <td>@AppleSupport Hi! I saw this page earlier and ...</td>\n",
       "      <td></td>\n",
       "      <td>2986063</td>\n",
       "      <td>2017-10-31</td>\n",
       "      <td>applesupport hi saw page earlier say op temp w...</td>\n",
       "    </tr>\n",
       "    <tr>\n",
       "      <th>2809833</th>\n",
       "      <td>2986065</td>\n",
       "      <td>691757</td>\n",
       "      <td>True</td>\n",
       "      <td>2017-10-31 21:44:59</td>\n",
       "      <td>@AppleSupport Just a little question: Will it ...</td>\n",
       "      <td>2986063</td>\n",
       "      <td></td>\n",
       "      <td>2017-10-31</td>\n",
       "      <td>applesupport little question hurt macbook pro ...</td>\n",
       "    </tr>\n",
       "    <tr>\n",
       "      <th>2810028</th>\n",
       "      <td>2986242</td>\n",
       "      <td>823415</td>\n",
       "      <td>True</td>\n",
       "      <td>2017-10-31 21:43:50</td>\n",
       "      <td>@AppleSupport why is “I️ “ showing up like thi...</td>\n",
       "      <td>2986241</td>\n",
       "      <td></td>\n",
       "      <td>2017-10-31</td>\n",
       "      <td>applesupport i️ showing like annoying</td>\n",
       "    </tr>\n",
       "    <tr>\n",
       "      <th>2811116</th>\n",
       "      <td>2987300</td>\n",
       "      <td>823685</td>\n",
       "      <td>True</td>\n",
       "      <td>2017-11-21 22:10:42</td>\n",
       "      <td>Travelled over an hour to @115858 Store to get...</td>\n",
       "      <td>2987299</td>\n",
       "      <td></td>\n",
       "      <td>2017-11-21</td>\n",
       "      <td>travelled hour store get repair £ iphonex told...</td>\n",
       "    </tr>\n",
       "    <tr>\n",
       "      <th>2811422</th>\n",
       "      <td>2987607</td>\n",
       "      <td>823765</td>\n",
       "      <td>True</td>\n",
       "      <td>2017-11-22 02:17:14</td>\n",
       "      <td>Yo @AppleSupport is that weird glitch w/ the c...</td>\n",
       "      <td>2987606</td>\n",
       "      <td></td>\n",
       "      <td>2017-11-22</td>\n",
       "      <td>yo applesupport weird glitch w capital i️ atte...</td>\n",
       "    </tr>\n",
       "  </tbody>\n",
       "</table>\n",
       "<p>8289 rows × 9 columns</p>\n",
       "</div>"
      ],
      "text/plain": [
       "         tweet_id author_id inbound          created_at  \\\n",
       "397           697    115854    True 2017-10-31 22:31:23   \n",
       "400           700    115854    True 2017-10-31 22:16:56   \n",
       "406           707    115855    True 2017-10-31 21:48:51   \n",
       "408           709    115855    True 2017-10-31 21:34:45   \n",
       "413           714    115856    True 2017-10-31 22:19:32   \n",
       "...           ...       ...     ...                 ...   \n",
       "2809832   2986064    691757    True 2017-10-31 21:53:55   \n",
       "2809833   2986065    691757    True 2017-10-31 21:44:59   \n",
       "2810028   2986242    823415    True 2017-10-31 21:43:50   \n",
       "2811116   2987300    823685    True 2017-11-21 22:10:42   \n",
       "2811422   2987607    823765    True 2017-11-22 02:17:14   \n",
       "\n",
       "                                                      text response_tweet_id  \\\n",
       "397      @AppleSupport The newest update. I️ made sure ...               699   \n",
       "400      @AppleSupport why are my I️’s changing not sho...               698   \n",
       "406      @AppleSupport I️ have an iPhone 7 Plus and yes...               705   \n",
       "408      @AppleSupport I️ need answers because it’s ann...               708   \n",
       "413      Hey @AppleSupport and anyone else who upgraded...           712,715   \n",
       "...                                                    ...               ...   \n",
       "2809832  @AppleSupport Hi! I saw this page earlier and ...                     \n",
       "2809833  @AppleSupport Just a little question: Will it ...           2986063   \n",
       "2810028  @AppleSupport why is “I️ “ showing up like thi...           2986241   \n",
       "2811116  Travelled over an hour to @115858 Store to get...           2987299   \n",
       "2811422  Yo @AppleSupport is that weird glitch w/ the c...           2987606   \n",
       "\n",
       "        in_response_to_tweet_id  date_only  \\\n",
       "397                         696 2017-10-31   \n",
       "400                             2017-10-31   \n",
       "406                         708 2017-10-31   \n",
       "408                         710 2017-10-31   \n",
       "413                             2017-10-31   \n",
       "...                         ...        ...   \n",
       "2809832                 2986063 2017-10-31   \n",
       "2809833                         2017-10-31   \n",
       "2810028                         2017-10-31   \n",
       "2811116                         2017-11-21   \n",
       "2811422                         2017-11-22   \n",
       "\n",
       "                                                text_clean  \n",
       "397      applesupport newest update i️ made sure downlo...  \n",
       "400      applesupport i️ changing showing correctly soc...  \n",
       "406                     applesupport i️ iphone plus yes i️  \n",
       "408                   applesupport i️ need answer annoying  \n",
       "413      hey applesupport anyone else upgraded issue ca...  \n",
       "...                                                    ...  \n",
       "2809832  applesupport hi saw page earlier say op temp w...  \n",
       "2809833  applesupport little question hurt macbook pro ...  \n",
       "2810028              applesupport i️ showing like annoying  \n",
       "2811116  travelled hour store get repair £ iphonex told...  \n",
       "2811422  yo applesupport weird glitch w capital i️ atte...  \n",
       "\n",
       "[8289 rows x 9 columns]"
      ]
     },
     "execution_count": 528,
     "metadata": {},
     "output_type": "execute_result"
    }
   ],
   "source": [
    "#df[~df.text_clean.apply(lambda x: isEnglish(x))]"
   ]
  },
  {
   "cell_type": "code",
   "execution_count": null,
   "metadata": {
    "run_control": {
     "marked": false
    },
    "scrolled": true
   },
   "outputs": [],
   "source": [
    "# def detect_lang(x):   \n",
    "#     b = TextBlob(x)\n",
    "#     return b.detect_language()   \n",
    "\n",
    "# sample_text.apply(lambda x: detect_lang(x))"
   ]
  },
  {
   "cell_type": "code",
   "execution_count": 680,
   "metadata": {
    "run_control": {
     "marked": false
    }
   },
   "outputs": [],
   "source": [
    "#lang = detect(\"hello worlds!\")\n",
    "#text_lang = sample_text.apply(lambda x: detect(x))"
   ]
  },
  {
   "cell_type": "code",
   "execution_count": 374,
   "metadata": {
    "run_control": {
     "marked": false
    }
   },
   "outputs": [
    {
     "data": {
      "text/plain": [
       "1059998    en\n",
       "1648152    en\n",
       "376891     en\n",
       "859531     en\n",
       "1399583    fr\n",
       "           ..\n",
       "2234310    it\n",
       "2782313    en\n",
       "490659     en\n",
       "1446715    en\n",
       "1765172    en\n",
       "Name: text_clean, Length: 1000, dtype: object"
      ]
     },
     "execution_count": 374,
     "metadata": {},
     "output_type": "execute_result"
    }
   ],
   "source": [
    "# text_lang"
   ]
  },
  {
   "cell_type": "code",
   "execution_count": 379,
   "metadata": {
    "run_control": {
     "marked": false
    }
   },
   "outputs": [
    {
     "data": {
      "text/plain": [
       "en    849\n",
       "fr     73\n",
       "nl     26\n",
       "no     13\n",
       "it      8\n",
       "af      8\n",
       "es      6\n",
       "da      4\n",
       "tr      3\n",
       "ca      2\n",
       "et      2\n",
       "tl      2\n",
       "pt      2\n",
       "hr      1\n",
       "cy      1\n",
       "Name: text_clean, dtype: int64"
      ]
     },
     "execution_count": 379,
     "metadata": {},
     "output_type": "execute_result"
    }
   ],
   "source": [
    "# text_lang.value_counts()"
   ]
  },
  {
   "cell_type": "code",
   "execution_count": null,
   "metadata": {
    "run_control": {
     "marked": false
    }
   },
   "outputs": [],
   "source": [
    "# df['text_lang'] = df.text_clean.apply(lambda x: detect(x))"
   ]
  },
  {
   "cell_type": "code",
   "execution_count": 110,
   "metadata": {
    "ExecuteTime": {
     "end_time": "2020-05-27T22:44:30.961715Z",
     "start_time": "2020-05-27T22:44:30.294085Z"
    }
   },
   "outputs": [],
   "source": [
    "# pickle dataframe for modeling\n",
    "df.to_pickle('data/tweet_clean.pkl')"
   ]
  },
  {
   "cell_type": "markdown",
   "metadata": {},
   "source": [
    "## Create a dataframe for user tweets to Apple Support only"
   ]
  },
  {
   "cell_type": "code",
   "execution_count": null,
   "metadata": {},
   "outputs": [],
   "source": [
    "# create dataframe for tweets sent to Apple Support only, keeping each tweet as an individual document\n",
    "df_tweet_user = df.copy()\n",
    "df_tweet_user = df_tweet_user[df_tweet_user.inbound == 'True']"
   ]
  },
  {
   "cell_type": "code",
   "execution_count": null,
   "metadata": {},
   "outputs": [],
   "source": [
    "# pickle dataframe for modeling\n",
    "df_tweet_user.to_pickle('data/df_tweet_user.pkl')"
   ]
  },
  {
   "cell_type": "markdown",
   "metadata": {},
   "source": [
    "## Create a dataframe for a user's initial tweet to Apple Support"
   ]
  },
  {
   "cell_type": "code",
   "execution_count": null,
   "metadata": {},
   "outputs": [],
   "source": [
    "# create dataframe for a user's initial tweet to Apple Support (i.e., excluding replies)\n",
    "df_first_tweet_user = df.copy()\n",
    "df_first_tweet_user = df_first_tweet_user[df_first_tweet_user.inbound == 'True']"
   ]
  },
  {
   "cell_type": "code",
   "execution_count": null,
   "metadata": {},
   "outputs": [],
   "source": [
    "# filter dataframe to first tweet per user only\n",
    "df_first_tweet_user = df_first_tweet_user.loc[df_first_tweet_user.groupby('author_id').\n",
    "                                              created_at.idxmin()].reset_index(drop=True)"
   ]
  },
  {
   "cell_type": "code",
   "execution_count": null,
   "metadata": {},
   "outputs": [],
   "source": [
    "# pickle dataframe for modeling\n",
    "df_first_tweet_user.to_pickle('data/df_first_tweet_user.pkl')"
   ]
  },
  {
   "cell_type": "markdown",
   "metadata": {},
   "source": [
    "## Create a dataframe that combines user tweets from a conversation into one document"
   ]
  },
  {
   "cell_type": "code",
   "execution_count": 116,
   "metadata": {
    "ExecuteTime": {
     "end_time": "2020-05-27T22:45:08.498356Z",
     "start_time": "2020-05-27T22:45:08.399269Z"
    },
    "run_control": {
     "marked": false
    }
   },
   "outputs": [],
   "source": [
    "# create new dataframe where all tweets from a user are combined (tweet conversation treated as a document)\n",
    "df_convo_user = df.copy()\n",
    "df_convo_user = df_convo_user[df_convo_user.inbound == 'True']"
   ]
  },
  {
   "cell_type": "code",
   "execution_count": 118,
   "metadata": {
    "ExecuteTime": {
     "end_time": "2020-05-27T22:45:21.086901Z",
     "start_time": "2020-05-27T22:45:11.564553Z"
    },
    "run_control": {
     "marked": false
    }
   },
   "outputs": [],
   "source": [
    "# aggregate text by user\n",
    "df_orig_text = df_convo_user.groupby(['author_id'])['text'].apply(' '.join).reset_index()\n",
    "\n",
    "# get min and max date per user\n",
    "df_min_max_date = df_convo_user.groupby('author_id').agg({'date_only':['min', 'max']}).reset_index()\n",
    "\n",
    "# add column names to min and max date\n",
    "df_min_max_date.columns = ['_'.join(col).strip() for col in df_min_max_date.columns.values]"
   ]
  },
  {
   "cell_type": "code",
   "execution_count": 119,
   "metadata": {
    "ExecuteTime": {
     "end_time": "2020-05-27T22:45:28.041328Z",
     "start_time": "2020-05-27T22:45:22.541661Z"
    },
    "run_control": {
     "marked": false
    }
   },
   "outputs": [],
   "source": [
    "# aggregate text clean by user\n",
    "df_convo_user = df_convo_user.groupby(['author_id'])['text_clean'].apply(' '.join).reset_index()"
   ]
  },
  {
   "cell_type": "code",
   "execution_count": 120,
   "metadata": {
    "ExecuteTime": {
     "end_time": "2020-05-27T22:45:28.461318Z",
     "start_time": "2020-05-27T22:45:28.329403Z"
    },
    "run_control": {
     "marked": false
    },
    "scrolled": true
   },
   "outputs": [],
   "source": [
    "# merge df convo user with aggregated text\n",
    "df_convo_user = pd.merge(df_convo_user, df_orig_text[['author_id', 'text']], how='left', on='author_id')"
   ]
  },
  {
   "cell_type": "code",
   "execution_count": 121,
   "metadata": {
    "ExecuteTime": {
     "end_time": "2020-05-27T22:45:28.991970Z",
     "start_time": "2020-05-27T22:45:28.751102Z"
    },
    "run_control": {
     "marked": false
    },
    "scrolled": false
   },
   "outputs": [
    {
     "data": {
      "text/html": [
       "<div>\n",
       "<style scoped>\n",
       "    .dataframe tbody tr th:only-of-type {\n",
       "        vertical-align: middle;\n",
       "    }\n",
       "\n",
       "    .dataframe tbody tr th {\n",
       "        vertical-align: top;\n",
       "    }\n",
       "\n",
       "    .dataframe thead th {\n",
       "        text-align: right;\n",
       "    }\n",
       "</style>\n",
       "<table border=\"1\" class=\"dataframe\">\n",
       "  <thead>\n",
       "    <tr style=\"text-align: right;\">\n",
       "      <th></th>\n",
       "      <th>author_id</th>\n",
       "      <th>text</th>\n",
       "      <th>text_clean</th>\n",
       "      <th>date_only_min</th>\n",
       "      <th>date_only_max</th>\n",
       "    </tr>\n",
       "  </thead>\n",
       "  <tbody>\n",
       "    <tr>\n",
       "      <th>0</th>\n",
       "      <td>408</td>\n",
       "      <td>@AppleSupport Uh, weirdness after watchOS 4.1 ...</td>\n",
       "      <td>applesupport uh weirdness watchos update http co</td>\n",
       "      <td>2017-11-02</td>\n",
       "      <td>2017-11-02</td>\n",
       "    </tr>\n",
       "    <tr>\n",
       "      <th>1</th>\n",
       "      <td>1437</td>\n",
       "      <td>I'm not sure what the F is happening with iOS ...</td>\n",
       "      <td>sure f happening io trying let battery run lie...</td>\n",
       "      <td>2017-11-17</td>\n",
       "      <td>2017-11-17</td>\n",
       "    </tr>\n",
       "    <tr>\n",
       "      <th>2</th>\n",
       "      <td>1501</td>\n",
       "      <td>@AppleSupport all good now thanks. i’ve been a...</td>\n",
       "      <td>applesupport good thanks able send least half ...</td>\n",
       "      <td>2017-11-03</td>\n",
       "      <td>2017-11-03</td>\n",
       "    </tr>\n",
       "    <tr>\n",
       "      <th>3</th>\n",
       "      <td>2084</td>\n",
       "      <td>@AppleSupport Just updated iTunes and it said ...</td>\n",
       "      <td>applesupport updated itunes said longer subscr...</td>\n",
       "      <td>2017-10-31</td>\n",
       "      <td>2017-10-31</td>\n",
       "    </tr>\n",
       "    <tr>\n",
       "      <th>4</th>\n",
       "      <td>3922</td>\n",
       "      <td>@AppleSupport Pretty sure it started with iOS ...</td>\n",
       "      <td>applesupport pretty sure started io seems happ...</td>\n",
       "      <td>2017-10-07</td>\n",
       "      <td>2017-10-08</td>\n",
       "    </tr>\n",
       "  </tbody>\n",
       "</table>\n",
       "</div>"
      ],
      "text/plain": [
       "   author_id                                               text  \\\n",
       "0        408  @AppleSupport Uh, weirdness after watchOS 4.1 ...   \n",
       "1       1437  I'm not sure what the F is happening with iOS ...   \n",
       "2       1501  @AppleSupport all good now thanks. i’ve been a...   \n",
       "3       2084  @AppleSupport Just updated iTunes and it said ...   \n",
       "4       3922  @AppleSupport Pretty sure it started with iOS ...   \n",
       "\n",
       "                                          text_clean date_only_min  \\\n",
       "0   applesupport uh weirdness watchos update http co    2017-11-02   \n",
       "1  sure f happening io trying let battery run lie...    2017-11-17   \n",
       "2  applesupport good thanks able send least half ...    2017-11-03   \n",
       "3  applesupport updated itunes said longer subscr...    2017-10-31   \n",
       "4  applesupport pretty sure started io seems happ...    2017-10-07   \n",
       "\n",
       "  date_only_max  \n",
       "0    2017-11-02  \n",
       "1    2017-11-17  \n",
       "2    2017-11-03  \n",
       "3    2017-10-31  \n",
       "4    2017-10-08  "
      ]
     },
     "execution_count": 121,
     "metadata": {},
     "output_type": "execute_result"
    }
   ],
   "source": [
    "# merge df convo user with min and max date\n",
    "df_convo_user = pd.merge(df_convo_user, df_min_max_date[['author_id_', 'date_only_min', 'date_only_max']], how='left', left_on='author_id', right_on='author_id_')\n",
    "df_convo_user = df_convo_user.drop(['author_id_'], axis=1)\n",
    "df_convo_user = df_convo_user[['author_id', 'text', 'text_clean', 'date_only_min', 'date_only_max']]\n",
    "df_convo_user.head()"
   ]
  },
  {
   "cell_type": "code",
   "execution_count": 123,
   "metadata": {
    "ExecuteTime": {
     "end_time": "2020-05-27T22:45:29.884774Z",
     "start_time": "2020-05-27T22:45:29.659830Z"
    },
    "run_control": {
     "marked": false
    }
   },
   "outputs": [],
   "source": [
    "# pickle dataframe for modeling\n",
    "df_convo_user.to_pickle('data/df_convo_user.pkl')"
   ]
  }
 ],
 "metadata": {
  "kernelspec": {
   "display_name": "Python [conda env:metis] *",
   "language": "python",
   "name": "conda-env-metis-py"
  },
  "language_info": {
   "codemirror_mode": {
    "name": "ipython",
    "version": 3
   },
   "file_extension": ".py",
   "mimetype": "text/x-python",
   "name": "python",
   "nbconvert_exporter": "python",
   "pygments_lexer": "ipython3",
   "version": "3.7.4"
  },
  "toc": {
   "base_numbering": 1,
   "nav_menu": {},
   "number_sections": false,
   "sideBar": true,
   "skip_h1_title": false,
   "title_cell": "Table of Contents",
   "title_sidebar": "Contents",
   "toc_cell": false,
   "toc_position": {
    "height": "603px",
    "left": "142px",
    "top": "419px",
    "width": "212px"
   },
   "toc_section_display": true,
   "toc_window_display": true
  },
  "varInspector": {
   "cols": {
    "lenName": 16,
    "lenType": 16,
    "lenVar": 40
   },
   "kernels_config": {
    "python": {
     "delete_cmd_postfix": "",
     "delete_cmd_prefix": "del ",
     "library": "var_list.py",
     "varRefreshCmd": "print(var_dic_list())"
    },
    "r": {
     "delete_cmd_postfix": ") ",
     "delete_cmd_prefix": "rm(",
     "library": "var_list.r",
     "varRefreshCmd": "cat(var_dic_list()) "
    }
   },
   "types_to_exclude": [
    "module",
    "function",
    "builtin_function_or_method",
    "instance",
    "_Feature"
   ],
   "window_display": false
  }
 },
 "nbformat": 4,
 "nbformat_minor": 4
}
